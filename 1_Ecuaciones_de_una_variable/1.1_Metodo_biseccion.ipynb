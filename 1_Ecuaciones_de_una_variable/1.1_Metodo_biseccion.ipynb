{
  "cells": [
    {
      "cell_type": "markdown",
      "source": [
        "# 1.1 Método de *bisección*"
      ],
      "metadata": {
        "collapsed": false,
        "pycharm": {
          "name": "#%% md\n"
        },
        "id": "JXkmmCVDa3je"
      }
    },
    {
      "cell_type": "markdown",
      "source": [
        "[![Open In Colab](https://colab.research.google.com/assets/colab-badge.svg)](https://colab.research.google.com/github/caramirezs/MetNum_202210/blob/main/1_Ecuaciones_de_una_variable/1.1_Método_biseccion.ipynb)"
      ],
      "metadata": {
        "collapsed": false,
        "id": "Mvy3QXBAa3jh"
      }
    },
    {
      "cell_type": "markdown",
      "source": [
        "# Precaución\n",
        "\n",
        "*Para el correcto desarrollo del notebook, es necesario ejecutar los siguientes fragmentos de código antes de ejecutar las secciónes de práctica.*"
      ],
      "metadata": {
        "id": "dqjbTH12Qzcl"
      }
    },
    {
      "cell_type": "code",
      "source": [
        "import numpy as np\n",
        "def graficar(f, x_i, x_f, num = 1000):\n",
        "    import matplotlib.pyplot as plt\n",
        "    plt.style.use('seaborn')\n",
        "    import numpy as np\n",
        "    \"\"\"\n",
        "    Gráfica de funciones algebraicas\n",
        "    :param f: función, previamente definida\n",
        "    :param x_i: límite inferior del intervalo\n",
        "    :param x_f: límite superior del intervalo\n",
        "    :param num: división del intervalo\n",
        "    :return: gráfica de la función\n",
        "    \"\"\"\n",
        "    x = np.linspace(x_i, x_f, num)\n",
        "    fig, ax = plt.subplots(figsize=(15,5))\n",
        "    ax.plot(x, f(x))\n",
        "    xmin, xmax = ax.get_xlim()\n",
        "    ymin, ymax = ax.get_ylim()\n",
        "    ax.annotate(\"\", xy=(xmax, 0), xytext=(xmin, 0),arrowprops=dict(color='gray', width=1.5, headwidth=8, headlength=10))\n",
        "    ax.annotate(\"\", xy=(0, ymax), xytext=(0, ymin),arrowprops=dict(color='gray', width=1.5, headwidth=8, headlength=10))\n",
        "    plt.show()\n",
        "    return None"
      ],
      "metadata": {
        "id": "EU8nua4HKOWt"
      },
      "execution_count": 2,
      "outputs": []
    },
    {
      "cell_type": "markdown",
      "source": [
        "#  1.1.1 Marcó Teorico\n",
        "\n"
      ],
      "metadata": {
        "id": "K-DrE14bRIqB"
      }
    },
    {
      "cell_type": "markdown",
      "source": [
        "#  Introducción a ecuaciones de una variable.\n",
        "\n",
        "Antes de ahondar en el ejercicio de encontra raices *(ceros)* de una función  recordemos como se solucionan algunas funciones polinomiales de una sola variable, Por ejemplo, pensemos en la ecuación cuadratica de la forma clásica:\n",
        "\n",
        "\\begin{equation}\n",
        "f(x) = ax^2 + bx + c\n",
        "\\end{equation}\n",
        "\n",
        "Se puede resolver de la forma:\n",
        "\n",
        "\\begin{equation}\n",
        "x = \\frac{-b \\pm \\sqrt{b^2 - 4ac}}{a^2}\n",
        "\\end{equation}\n",
        "\n",
        "Y para este escenario en particular encontrar las $x$ en donde $f(x) = 0$ es sencillo, ahora pensemos en funciones mucho más complejas donde encontrar valores de $x$ tales que se cumpla la condición previamente dada seria muy complejo.\n",
        "\n",
        "Es aqui donde los métodos númericos vienen al rescate, para encontrar las posibles soluciones a ecuaciones del tipo:\n",
        "\n",
        "\\begin{equation}\n",
        "f(x) = 0\n",
        "\\end{equation}\n",
        "\n",
        " Donde $f(x)$ es un polinomio de la forma $f(x) = x^n + a_1x^{n-1} + ... + a_{n-1}x^1 + a_n$\n",
        "\n",
        "> Recuerda: Encontrar raices o ceros de las funciones es parte fundamental en la practica del desarrollo de actividades relacionadas con ciencia e ingenieria.\n",
        "\n",
        "Existen diferente métodos que se aplican a diferentes tipos de ecuaciones, y algunos métodos pueden resolver más de un tipo de ecuación.\n",
        "\n",
        "## 1.1.1.2 Tipos de Métodos\n",
        "* *Métodos Locales:* estos métodos estan diseñados para buscar una raiz (cero de una función) de ecuaciones no lineales.\n",
        "* *Métodos Globales:* diseñado para encontrar una raiz a partir de un valor dado arbitario, podrian encontrar más de una raiz.\n",
        "* *Métodos de Iterativo:* pueden encontrar más de una raiz en un intervalo especifico dado perteneciente a un dominio de $x$. Se caracterizan por ser robustos y lentos.\n",
        "* *Método Gráfico:* ser caracteriza por ser utilizado a partir de un punto de vista gráfico de $f(x)$, teniendo en cuento un dominio concreto de $x$.\n",
        "\n",
        "\n",
        "## 1.1.1.3 Sobre el Método Bisección\n",
        "\n",
        "El método sirve para encontrar un valor apróximado de $x$  de modo que $f(x) = 0$ y pertenece al tipo de métodos iterativos.\n",
        "\n",
        "Para que el método biseccion funcione se debe cumplir que:\n",
        "\n",
        "> Dada una función $f(x)$ y sea continua en un intervalo $[a, b]$ se debe cumplir que $f(a)*f(b) < 0$.\n",
        "\n",
        "Por el teorema de Bolzano sabemos que: sí la funcion es continua en dicho intervalo luego $f(a)$ y $f(b)$ son de signos opuestos, luego esto implica que entre $a$ y $b$ existe al menos un $c$ tal que $f(c) = 0$. \n",
        "\n",
        "Luego el método de bisección toma esto como idea para crear su algoritmo iterativo. \n",
        "\n",
        "### 1.1.1.4 El **método** explicado paso a paso:\n",
        "\n",
        "1. Seleccionar un intervalo $[a, b]$ y luego comprobar que la condición inicial se cumple, es decir $f(a)*f(b) < 0$.\n",
        "2. Seleccionar un $c$ tal que $c = \\frac{a + b}{2}$. Es decir el punto medio del intervalo.\n",
        "3. Se comprueba que $f(c) = 0$, si lo es, el método finaliza, en caso contrario continua.\n",
        "4. Si el punto 3 no se cumple se evaluan dos escenario:\n",
        "  * Sí $f(c) * f(a) < 0$ entonces $a = c$ y se mantiene $b$.\n",
        "  * Sí $f(c) * f(b) < 0$ entonces $b = a$ y se mantiene $a$.\n",
        "5. Repita el paso 2 al 4 hasta que se logre una tolerancia de error pequeña ó se agoten el número de iteraciones.\n",
        "\n",
        "### 1.2 Sobre la tolerancia y la aproximación del error.\n",
        "\n",
        "Antes de mostar un ejempló sobre el método de bisección se debe abordar la definición de error ya que es de suma importancia para la materia de métodos númericos. Dado que ello depende la aceptación de la solución encontrada.\n",
        "\n",
        "De los tipos de errores encontrados en métodos númericos serian de dos tipos:\n",
        "\n",
        "* *Error de truncamiento:* el error que resulta de la solución de un problema por medio de la aproximación en vez de la solución analítica\n",
        "* *Error de redondeo:* provienen de la representación de números exactos debido a su limitante en las cifras significativas.\n",
        "\n",
        "Definamos el primero el Valor Verdadero ($V_v$), como:\n",
        "\n",
        "\\begin{equation}\n",
        "V_v = Aproximación + Tolerancia\n",
        "\\end{equation}\n",
        "\n",
        "Luego a partir del Valor Verdadero se puede definir el Error Verdadero ($E_v$) como:\n",
        "\n",
        "\\begin{equation}\n",
        "E_v = V_v - Aproximación\\\\\n",
        "\\end{equation}\n",
        "\n",
        "Con el Valor Verdadero y El error verdadero se puede construir el Error Relativo Fraccional: \n",
        "\n",
        "\\begin{equation}\n",
        "E_v = \\frac{V_v - Aproximacion}{E_v}\n",
        "\\end{equation}\n",
        "\n",
        "El cual puede ser expresado en forma de porcentaje tal que:\n",
        "\n",
        "\\begin{equation}\n",
        "E_v = \\frac{V_v - Aproximacion}{E_v} * 100 \\%\n",
        "\\end{equation}\n",
        "\n",
        "Y para finalizar, tambien se podria formalizar el error absoluto $|E_v|$ como:\n",
        "\n",
        "\\begin{equation}\n",
        "|E_v| = V_v - Aproximacion\n",
        "\\end{equation}"
      ],
      "metadata": {
        "id": "7i43xntpe2NI"
      }
    },
    {
      "cell_type": "markdown",
      "source": [
        "# Ejemplo Práctico\n"
      ],
      "metadata": {
        "id": "u3nymMBNOaXr"
      }
    },
    {
      "cell_type": "markdown",
      "source": [
        "Resolver la ecuación $e^x - sin(x) = 3x^2 $\n",
        "\n",
        "1. Graficar la ecuación en un intervalo a elección, para este caso el intervalo es $[0, 2]$:"
      ],
      "metadata": {
        "id": "SMAYpRUjRi9M"
      }
    },
    {
      "cell_type": "code",
      "source": [
        "f = lambda x: np.e**x - np.sin(x) - 3*x**2\n",
        "graficar(f, 0, 2)"
      ],
      "metadata": {
        "colab": {
          "base_uri": "https://localhost:8080/",
          "height": 320
        },
        "id": "eqOui5cVK6LV",
        "outputId": "6f3e0d85-f403-4b50-a1e7-943c9831a4b4"
      },
      "execution_count": 10,
      "outputs": [
        {
          "output_type": "display_data",
          "data": {
            "image/png": "[encoded data removed]",
            "text/plain": [
              "<Figure size 1080x360 with 1 Axes>"
            ]
          },
          "metadata": {}
        }
      ]
    },
    {
      "cell_type": "markdown",
      "source": [
        "Analizando la gráfica se puede observar que cuando $x = 0.65$ se obtendria que $f(x) = 0$.\n",
        "\n",
        "2. Ahora se puede ejecutar el método y comprobar la solución encontrada con el análisis gráfico:"
      ],
      "metadata": {
        "id": "p-wlf59ZKcKz"
      }
    },
    {
      "cell_type": "code",
      "execution_count": 13,
      "outputs": [],
      "source": [
        "def met_biseccion(f, a, b, tol=1e-4, n=50):\n",
        "    \"\"\"\n",
        "    Método de bisección\n",
        "    :param f: Funcion a la que se le intenta encontrar una solucion\n",
        "    para la ecuacion f(x)=0, previamente definida\n",
        "    :param a: límite inferior\n",
        "    :param b: límite superior\n",
        "    :param tol: toleracia, criterio de parada\n",
        "    :param n: número máximo de iteraciones, criterio de parada\n",
        "    :return: solución exacta o aproximada, si tiene.\n",
        "    \"\"\"\n",
        "    if not f(a)*f(b)<0:\n",
        "        print('El intervalo no funciona: f({})={:.2f}, f({})={:.2f}'.format(a, f(a), b, f(b)))\n",
        "        return None\n",
        "    i = 1\n",
        "    while i<=n:\n",
        "        p_i = (b + a)/2  # punto medio\n",
        "        print('ite {:<2}: a_{:<2} = {:.4f}, b_{:<2} = {:.4f}, p_{:<2} = {:.5f}'.format(i, i-1, a, i-1, b, i, p_i))\n",
        "        if f(p_i) == 0:\n",
        "            print('solución exacta encontrada')\n",
        "            return p_i\n",
        "        if f(a)*f(p_i) < 0:\n",
        "            b = p_i\n",
        "        else:\n",
        "            a = p_i\n",
        "        e_abs = abs(b - a)\n",
        "        if e_abs < tol:\n",
        "            print('solución encontrada')\n",
        "            return p_i\n",
        "        i += 1\n",
        "\n",
        "    print('solución no encontrada, iteraciones agotadas')\n",
        "    return None"
      ],
      "metadata": {
        "pycharm": {
          "name": "#%%\n"
        },
        "id": "sfI0BzIoa3jj"
      }
    },
    {
      "cell_type": "code",
      "execution_count": 14,
      "outputs": [
        {
          "output_type": "stream",
          "name": "stdout",
          "text": [
            "ite 1 : a_0  = 0.0000, b_0  = 2.0000, p_1  = 1.00000\n",
            "ite 2 : a_1  = 0.0000, b_1  = 1.0000, p_2  = 0.50000\n",
            "ite 3 : a_2  = 0.5000, b_2  = 1.0000, p_3  = 0.75000\n",
            "ite 4 : a_3  = 0.5000, b_3  = 0.7500, p_4  = 0.62500\n",
            "ite 5 : a_4  = 0.6250, b_4  = 0.7500, p_5  = 0.68750\n",
            "ite 6 : a_5  = 0.6250, b_5  = 0.6875, p_6  = 0.65625\n",
            "ite 7 : a_6  = 0.6562, b_6  = 0.6875, p_7  = 0.67188\n",
            "ite 8 : a_7  = 0.6562, b_7  = 0.6719, p_8  = 0.66406\n",
            "ite 9 : a_8  = 0.6641, b_8  = 0.6719, p_9  = 0.66797\n",
            "ite 10: a_9  = 0.6641, b_9  = 0.6680, p_10 = 0.66602\n",
            "ite 11: a_10 = 0.6641, b_10 = 0.6660, p_11 = 0.66504\n",
            "ite 12: a_11 = 0.6650, b_11 = 0.6660, p_12 = 0.66553\n",
            "ite 13: a_12 = 0.6650, b_12 = 0.6655, p_13 = 0.66528\n",
            "ite 14: a_13 = 0.6650, b_13 = 0.6653, p_14 = 0.66516\n",
            "ite 15: a_14 = 0.6652, b_14 = 0.6653, p_15 = 0.66522\n",
            "ite 16: a_15 = 0.6652, b_15 = 0.6653, p_16 = 0.66525\n",
            "ite 17: a_16 = 0.6653, b_16 = 0.6653, p_17 = 0.66527\n",
            "ite 18: a_17 = 0.6653, b_17 = 0.6653, p_18 = 0.66526\n",
            "solución encontrada\n"
          ]
        },
        {
          "output_type": "execute_result",
          "data": {
            "text/plain": [
              "0.6652603149414062"
            ]
          },
          "metadata": {},
          "execution_count": 14
        }
      ],
      "source": [
        "met_biseccion(f, 0, 2, tol=1e-5)"
      ],
      "metadata": {
        "pycharm": {
          "name": "#%%\n"
        },
        "id": "EuakfR1qa3ji",
        "colab": {
          "base_uri": "https://localhost:8080/"
        },
        "outputId": "1be0f5b2-9885-449c-895b-8f0014d94045"
      }
    },
    {
      "cell_type": "markdown",
      "source": [
        "# Ejercicios Prácticos"
      ],
      "metadata": {
        "id": "cqJZzPlCPpgq"
      }
    },
    {
      "cell_type": "markdown",
      "source": [
        "1.1.3.1 Resolver $e^x - 3 sin (x) = 3x$ con una tolerancia de $10^5$"
      ],
      "metadata": {
        "id": "x9XCEGrxP11l"
      }
    },
    {
      "cell_type": "code",
      "execution_count": null,
      "outputs": [],
      "source": [
        "f = lambda x: np.e**x - 3*np.sin(x) - 3*x\n",
        "met_biseccion(f, 0, 0.5, tol=1e-5)"
      ],
      "metadata": {
        "pycharm": {
          "name": "#%%\n"
        },
        "id": "yLm-Cawxa3jk"
      }
    },
    {
      "cell_type": "markdown",
      "source": [
        "1.1.3.2 Resolver $tan(x) - x$"
      ],
      "metadata": {
        "id": "SlNIulYjQHU-"
      }
    },
    {
      "cell_type": "code",
      "execution_count": null,
      "outputs": [
        {
          "name": "stdout",
          "output_type": "stream",
          "text": [
            "ite 1 : a_0  = 4.0000, b_0  = 4.5000, p_1  = 4.25000\n",
            "ite 2 : a_1  = 4.2500, b_1  = 4.5000, p_2  = 4.37500\n",
            "ite 3 : a_2  = 4.3750, b_2  = 4.5000, p_3  = 4.43750\n",
            "ite 4 : a_3  = 4.4375, b_3  = 4.5000, p_4  = 4.46875\n",
            "ite 5 : a_4  = 4.4688, b_4  = 4.5000, p_5  = 4.48438\n",
            "ite 6 : a_5  = 4.4844, b_5  = 4.5000, p_6  = 4.49219\n",
            "solución encontrada\n"
          ]
        },
        {
          "data": {
            "text/plain": "4.4921875"
          },
          "execution_count": 25,
          "metadata": {},
          "output_type": "execute_result"
        }
      ],
      "source": [
        "f = lambda x: np.tan(x) - x\n",
        "met_biseccion(f, 4, 4.5, tol=1e-2)"
      ],
      "metadata": {
        "pycharm": {
          "name": "#%%\n"
        },
        "id": "zqMEA0Rka3jm",
        "outputId": "9a87c32d-7674-4038-f5e1-9c147b60de63"
      }
    },
    {
      "cell_type": "markdown",
      "source": [
        "1.1.3.3 Resolver $x^{10} - 1$"
      ],
      "metadata": {
        "id": "xag_FgMiQUSY"
      }
    },
    {
      "cell_type": "code",
      "execution_count": null,
      "outputs": [
        {
          "name": "stdout",
          "output_type": "stream",
          "text": [
            "ite 1 : a_0  = 0.0000, b_0  = 1.2000, p_1  = 0.60000\n",
            "ite 2 : a_1  = 0.6000, b_1  = 1.2000, p_2  = 0.90000\n",
            "ite 3 : a_2  = 0.9000, b_2  = 1.2000, p_3  = 1.05000\n",
            "ite 4 : a_3  = 0.9000, b_3  = 1.0500, p_4  = 0.97500\n",
            "ite 5 : a_4  = 0.9750, b_4  = 1.0500, p_5  = 1.01250\n",
            "ite 6 : a_5  = 0.9750, b_5  = 1.0125, p_6  = 0.99375\n",
            "ite 7 : a_6  = 0.9937, b_6  = 1.0125, p_7  = 1.00312\n",
            "ite 8 : a_7  = 0.9937, b_7  = 1.0031, p_8  = 0.99844\n",
            "ite 9 : a_8  = 0.9984, b_8  = 1.0031, p_9  = 1.00078\n",
            "ite 10: a_9  = 0.9984, b_9  = 1.0008, p_10 = 0.99961\n",
            "ite 11: a_10 = 0.9996, b_10 = 1.0008, p_11 = 1.00020\n",
            "ite 12: a_11 = 0.9996, b_11 = 1.0002, p_12 = 0.99990\n",
            "ite 13: a_12 = 0.9999, b_12 = 1.0002, p_13 = 1.00005\n",
            "ite 14: a_13 = 0.9999, b_13 = 1.0000, p_14 = 0.99998\n",
            "ite 15: a_14 = 1.0000, b_14 = 1.0000, p_15 = 1.00001\n",
            "ite 16: a_15 = 1.0000, b_15 = 1.0000, p_16 = 0.99999\n",
            "ite 17: a_16 = 1.0000, b_16 = 1.0000, p_17 = 1.00000\n",
            "ite 18: a_17 = 1.0000, b_17 = 1.0000, p_18 = 1.00000\n",
            "ite 19: a_18 = 1.0000, b_18 = 1.0000, p_19 = 1.00000\n",
            "ite 20: a_19 = 1.0000, b_19 = 1.0000, p_20 = 1.00000\n",
            "ite 21: a_20 = 1.0000, b_20 = 1.0000, p_21 = 1.00000\n",
            "ite 22: a_21 = 1.0000, b_21 = 1.0000, p_22 = 1.00000\n",
            "ite 23: a_22 = 1.0000, b_22 = 1.0000, p_23 = 1.00000\n",
            "ite 24: a_23 = 1.0000, b_23 = 1.0000, p_24 = 1.00000\n",
            "ite 25: a_24 = 1.0000, b_24 = 1.0000, p_25 = 1.00000\n",
            "ite 26: a_25 = 1.0000, b_25 = 1.0000, p_26 = 1.00000\n",
            "ite 27: a_26 = 1.0000, b_26 = 1.0000, p_27 = 1.00000\n",
            "ite 28: a_27 = 1.0000, b_27 = 1.0000, p_28 = 1.00000\n",
            "ite 29: a_28 = 1.0000, b_28 = 1.0000, p_29 = 1.00000\n",
            "ite 30: a_29 = 1.0000, b_29 = 1.0000, p_30 = 1.00000\n",
            "ite 31: a_30 = 1.0000, b_30 = 1.0000, p_31 = 1.00000\n",
            "ite 32: a_31 = 1.0000, b_31 = 1.0000, p_32 = 1.00000\n",
            "ite 33: a_32 = 1.0000, b_32 = 1.0000, p_33 = 1.00000\n",
            "ite 34: a_33 = 1.0000, b_33 = 1.0000, p_34 = 1.00000\n",
            "ite 35: a_34 = 1.0000, b_34 = 1.0000, p_35 = 1.00000\n",
            "ite 36: a_35 = 1.0000, b_35 = 1.0000, p_36 = 1.00000\n",
            "ite 37: a_36 = 1.0000, b_36 = 1.0000, p_37 = 1.00000\n",
            "ite 38: a_37 = 1.0000, b_37 = 1.0000, p_38 = 1.00000\n",
            "ite 39: a_38 = 1.0000, b_38 = 1.0000, p_39 = 1.00000\n",
            "ite 40: a_39 = 1.0000, b_39 = 1.0000, p_40 = 1.00000\n",
            "ite 41: a_40 = 1.0000, b_40 = 1.0000, p_41 = 1.00000\n",
            "ite 42: a_41 = 1.0000, b_41 = 1.0000, p_42 = 1.00000\n",
            "ite 43: a_42 = 1.0000, b_42 = 1.0000, p_43 = 1.00000\n",
            "ite 44: a_43 = 1.0000, b_43 = 1.0000, p_44 = 1.00000\n",
            "ite 45: a_44 = 1.0000, b_44 = 1.0000, p_45 = 1.00000\n",
            "ite 46: a_45 = 1.0000, b_45 = 1.0000, p_46 = 1.00000\n",
            "ite 47: a_46 = 1.0000, b_46 = 1.0000, p_47 = 1.00000\n",
            "ite 48: a_47 = 1.0000, b_47 = 1.0000, p_48 = 1.00000\n",
            "ite 49: a_48 = 1.0000, b_48 = 1.0000, p_49 = 1.00000\n",
            "ite 50: a_49 = 1.0000, b_49 = 1.0000, p_50 = 1.00000\n",
            "solución encontrada\n"
          ]
        },
        {
          "data": {
            "text/plain": "0.9999999999999994"
          },
          "execution_count": 34,
          "metadata": {},
          "output_type": "execute_result"
        }
      ],
      "source": [
        "f = lambda x: x**10 - 1\n",
        "met_biseccion(f, 0, 1.2, tol=1e-15, n=500)"
      ],
      "metadata": {
        "pycharm": {
          "name": "#%%\n"
        },
        "id": "jriR59p3a3jn",
        "outputId": "26fc43d3-cdfc-4edd-ad74-8af1807e196e"
      }
    }
  ],
  "metadata": {
    "kernelspec": {
      "display_name": "Python 3",
      "language": "python",
      "name": "python3"
    },
    "language_info": {
      "codemirror_mode": {
        "name": "ipython",
        "version": 2
      },
      "file_extension": ".py",
      "mimetype": "text/x-python",
      "name": "python",
      "nbconvert_exporter": "python",
      "pygments_lexer": "ipython2",
      "version": "2.7.6"
    },
    "colab": {
      "name": "1.1_Metodo_biseccion.ipynb.txt",
      "provenance": []
    }
  },
  "nbformat": 4,
  "nbformat_minor": 0
}