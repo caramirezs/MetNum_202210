{
  "cells": [
    {
      "cell_type": "markdown",
      "source": [
        "# 1.1 Método de *bisección*"
      ],
      "metadata": {
        "collapsed": false,
        "pycharm": {
          "name": "#%% md\n"
        },
        "id": "JXkmmCVDa3je"
      }
    },
    {
      "cell_type": "markdown",
      "source": [
        "[![Open In Colab](https://colab.research.google.com/assets/colab-badge.svg)](https://colab.research.google.com/github/caramirezs/MetNum_202210/blob/main/1_Ecuaciones_de_una_variable/1.1_Método_biseccion.ipynb)"
      ],
      "metadata": {
        "collapsed": false,
        "id": "Mvy3QXBAa3jh"
      }
    },
    {
      "cell_type": "markdown",
      "source": [
        "El método bisección sirve para encontrar un valor $x$  de modo que $f(x) = 0$ para una función $f$. A este tipo de algoritmos se los conoce como hallar raices de una función de forma númerica. Generalmente hablando a veces es imposible hallar los ceros de una función de forma tradicional, bien sea por la complejidad de la función ó porque computacionalmente hablando seria complejo.\n",
        "\n",
        "Luego el método de biseccion es un algoritmo iterativo que permite aproximar algún valor de $x$ de manera que se cumpla la condición previamente expresadad\n",
        "\n",
        "\n",
        "\n",
        "> Encontrar raices o ceros de las funciones es parte fundamental en la practica del desarrollo de actividades relacionadas con ciencia e ingenieria.\n",
        "\n",
        "## 1. Teoria\n",
        "\n",
        "Digamos que existe una función $f(x)$ y es continua en un intervalo $[a, b]$ y digamos que a medida que se mueve dentro del intervalo sú valor va cambiando de positivo a negativo.\n",
        "\n",
        "Matematicamente hablando, la función no puede cambiar su signo de positivo a negativo y viceversa sin pasar a traves del eje horizontal.  \n",
        "\n",
        "Luego el método de bisección toma esto como idea para crear su algoritmo iterativo. \n",
        "\n",
        "### 1.1 El *algoritmo* consta de 3 pasos:\n",
        "\n",
        "1. Tome el intervalo $[a, b]$ y dividalo en dos, es decir a partir de $[a, b]$ crear dos intervalo $[a, c]$ y $[c, b]$, con $c = \\frac{a + b}{2}$.\n",
        "2. La raiz de la función existe en $[a, c]$ ó $[c, b]$ sí la respuesta es que  se encuentra en $[a, c]$ luego $f(a)*f(c) < 0$ de lo contraria la raíz estariá en el intervalo $[c, b]$ y $f(c)*f(b)< 0$.\n",
        "3. Por último evalue la función en el intervalo dado, si aun no se encuentra la raiz repita los dos pasos anteriores.\n",
        "\n",
        "Básicamente hablando el método de bisección subdivide en intervalos hasta encontrar la raiz de una forma iterativa.\n",
        "\n",
        "### 1.2 Redondeo de Errores y Precisión\n",
        "\n",
        "Hablar aqui un poco sobre como funciona el redondeo para los métodos númericos\n",
        "\n",
        "## 2. Ejemplo Práctico\n",
        "* Seleccionar una función que sea manejable\n",
        "\n",
        "### 2.1 Analisis Gráfico\n",
        "* Colocar aqui una gráfica y explicar los intervalos (Tal vez usando el método gráfico)\n",
        "* Dibujar la función con matlib plot y escoger el intervalo\n",
        "\n",
        "### 2.2 Hallar las Raices\n",
        "\n",
        "## 3. Incluir Script de Python\n",
        "\n",
        "-----\n",
        "\n",
        "\n",
        "\n",
        "Para poder aplicar el método de bisección se debe cumplir que:\n",
        "\n",
        "* La función $f(x)$ sea continua\n",
        "* Se deben tener dos puntos $a$, $b$ tal que $f(a)f(b)<0$\n",
        "\n",
        "Basicamente el procedimiento se desarrolla de la siguiente forma:\n",
        "\n"
      ],
      "metadata": {
        "id": "7i43xntpe2NI"
      }
    },
    {
      "cell_type": "markdown",
      "source": [
        "## Algoritmo"
      ],
      "metadata": {
        "collapsed": false,
        "pycharm": {
          "name": "#%% md\n"
        },
        "id": "52FTK6vNa3ji"
      }
    },
    {
      "cell_type": "code",
      "execution_count": null,
      "outputs": [],
      "source": [
        "import numpy as np"
      ],
      "metadata": {
        "pycharm": {
          "name": "#%%\n"
        },
        "id": "EuakfR1qa3ji"
      }
    },
    {
      "cell_type": "code",
      "execution_count": null,
      "outputs": [],
      "source": [
        "def met_biseccion(f, a, b, tol=1e-4, n=50):\n",
        "    \"\"\"\n",
        "    Método de bisección\n",
        "    :param f: Funcion a la que se le intenta encontrar una solucion\n",
        "    para la ecuacion f(x)=0, previamente definida\n",
        "    :param a: límite inferior\n",
        "    :param b: límite superior\n",
        "    :param tol: toleracia, criterio de parada\n",
        "    :param n: número máximo de iteraciones, criterio de parada\n",
        "    :return: solución exacta o aproximada, si tiene.\n",
        "    \"\"\"\n",
        "    if not f(a)*f(b)<0:\n",
        "        print('El intervalo no funciona: f({})={:.2f}, f({})={:.2f}'.format(a, f(a), b, f(b)))\n",
        "        return None\n",
        "    i = 1\n",
        "    while i<=n:\n",
        "        p_i = (b + a)/2  # punto medio\n",
        "        print('ite {:<2}: a_{:<2} = {:.4f}, b_{:<2} = {:.4f}, p_{:<2} = {:.5f}'.format(i, i-1, a, i-1, b, i, p_i))\n",
        "        if f(p_i) == 0:\n",
        "            print('solución exacta encontrada')\n",
        "            return p_i\n",
        "        if f(a)*f(p_i) < 0:\n",
        "            b = p_i\n",
        "        else:\n",
        "            a = p_i\n",
        "        e_abs = abs(b - a)\n",
        "        if e_abs < tol:\n",
        "            print('solución encontrada')\n",
        "            return p_i\n",
        "        i += 1\n",
        "\n",
        "    print('solución no encontrada, iteraciones agotadas')\n",
        "    return None"
      ],
      "metadata": {
        "pycharm": {
          "name": "#%%\n"
        },
        "id": "sfI0BzIoa3jj"
      }
    },
    {
      "cell_type": "markdown",
      "source": [
        "## Ejercicio 1.\n",
        "Encontrar una solución de la ecuación $e^x - 3 \\sin(x) -3x$ con una tolerancia de $10^5$"
      ],
      "metadata": {
        "collapsed": false,
        "pycharm": {
          "name": "#%% md\n"
        },
        "id": "qP-q30Uka3jk"
      }
    },
    {
      "cell_type": "code",
      "execution_count": null,
      "outputs": [],
      "source": [
        "f = lambda x: np.e**x - 3*np.sin(x) - 3*x"
      ],
      "metadata": {
        "pycharm": {
          "name": "#%%\n"
        },
        "id": "yLm-Cawxa3jk"
      }
    },
    {
      "cell_type": "code",
      "execution_count": null,
      "outputs": [
        {
          "name": "stdout",
          "output_type": "stream",
          "text": [
            "ite 1 : a_0  = 0.0000, b_0  = 0.5000, p_1  = 0.25000\n",
            "ite 2 : a_1  = 0.0000, b_1  = 0.2500, p_2  = 0.12500\n",
            "ite 3 : a_2  = 0.1250, b_2  = 0.2500, p_3  = 0.18750\n",
            "ite 4 : a_3  = 0.1875, b_3  = 0.2500, p_4  = 0.21875\n",
            "ite 5 : a_4  = 0.1875, b_4  = 0.2188, p_5  = 0.20312\n",
            "ite 6 : a_5  = 0.2031, b_5  = 0.2188, p_6  = 0.21094\n",
            "ite 7 : a_6  = 0.2031, b_6  = 0.2109, p_7  = 0.20703\n",
            "ite 8 : a_7  = 0.2031, b_7  = 0.2070, p_8  = 0.20508\n",
            "ite 9 : a_8  = 0.2051, b_8  = 0.2070, p_9  = 0.20605\n",
            "ite 10: a_9  = 0.2051, b_9  = 0.2061, p_10 = 0.20557\n",
            "ite 11: a_10 = 0.2051, b_10 = 0.2056, p_11 = 0.20532\n",
            "ite 12: a_11 = 0.2053, b_11 = 0.2056, p_12 = 0.20544\n",
            "ite 13: a_12 = 0.2053, b_12 = 0.2054, p_13 = 0.20538\n",
            "ite 14: a_13 = 0.2054, b_13 = 0.2054, p_14 = 0.20541\n",
            "ite 15: a_14 = 0.2054, b_14 = 0.2054, p_15 = 0.20540\n",
            "ite 16: a_15 = 0.2054, b_15 = 0.2054, p_16 = 0.20539\n",
            "solución encontrada\n"
          ]
        },
        {
          "data": {
            "text/plain": "0.20539093017578125"
          },
          "execution_count": 23,
          "metadata": {},
          "output_type": "execute_result"
        }
      ],
      "source": [
        "met_biseccion(f, 0, 0.5, tol=1e-5)"
      ],
      "metadata": {
        "pycharm": {
          "name": "#%%\n"
        },
        "id": "6GycCH6qa3jl",
        "outputId": "93619a45-0a8f-4ee5-d1ca-ea4cf0444721"
      }
    },
    {
      "cell_type": "code",
      "execution_count": null,
      "outputs": [
        {
          "name": "stdout",
          "output_type": "stream",
          "text": [
            "ite 1 : a_0  = 4.0000, b_0  = 4.5000, p_1  = 4.25000\n",
            "ite 2 : a_1  = 4.2500, b_1  = 4.5000, p_2  = 4.37500\n",
            "ite 3 : a_2  = 4.3750, b_2  = 4.5000, p_3  = 4.43750\n",
            "ite 4 : a_3  = 4.4375, b_3  = 4.5000, p_4  = 4.46875\n",
            "ite 5 : a_4  = 4.4688, b_4  = 4.5000, p_5  = 4.48438\n",
            "ite 6 : a_5  = 4.4844, b_5  = 4.5000, p_6  = 4.49219\n",
            "solución encontrada\n"
          ]
        },
        {
          "data": {
            "text/plain": "4.4921875"
          },
          "execution_count": 25,
          "metadata": {},
          "output_type": "execute_result"
        }
      ],
      "source": [
        "f = lambda x: np.tan(x) - x\n",
        "met_biseccion(f, 4, 4.5, tol=1e-2)"
      ],
      "metadata": {
        "pycharm": {
          "name": "#%%\n"
        },
        "id": "zqMEA0Rka3jm",
        "outputId": "9a87c32d-7674-4038-f5e1-9c147b60de63"
      }
    },
    {
      "cell_type": "code",
      "execution_count": null,
      "outputs": [
        {
          "name": "stdout",
          "output_type": "stream",
          "text": [
            "ite 1 : a_0  = 0.0000, b_0  = 1.2000, p_1  = 0.60000\n",
            "ite 2 : a_1  = 0.6000, b_1  = 1.2000, p_2  = 0.90000\n",
            "ite 3 : a_2  = 0.9000, b_2  = 1.2000, p_3  = 1.05000\n",
            "ite 4 : a_3  = 0.9000, b_3  = 1.0500, p_4  = 0.97500\n",
            "ite 5 : a_4  = 0.9750, b_4  = 1.0500, p_5  = 1.01250\n",
            "ite 6 : a_5  = 0.9750, b_5  = 1.0125, p_6  = 0.99375\n",
            "ite 7 : a_6  = 0.9937, b_6  = 1.0125, p_7  = 1.00312\n",
            "ite 8 : a_7  = 0.9937, b_7  = 1.0031, p_8  = 0.99844\n",
            "ite 9 : a_8  = 0.9984, b_8  = 1.0031, p_9  = 1.00078\n",
            "ite 10: a_9  = 0.9984, b_9  = 1.0008, p_10 = 0.99961\n",
            "ite 11: a_10 = 0.9996, b_10 = 1.0008, p_11 = 1.00020\n",
            "ite 12: a_11 = 0.9996, b_11 = 1.0002, p_12 = 0.99990\n",
            "ite 13: a_12 = 0.9999, b_12 = 1.0002, p_13 = 1.00005\n",
            "ite 14: a_13 = 0.9999, b_13 = 1.0000, p_14 = 0.99998\n",
            "ite 15: a_14 = 1.0000, b_14 = 1.0000, p_15 = 1.00001\n",
            "ite 16: a_15 = 1.0000, b_15 = 1.0000, p_16 = 0.99999\n",
            "ite 17: a_16 = 1.0000, b_16 = 1.0000, p_17 = 1.00000\n",
            "ite 18: a_17 = 1.0000, b_17 = 1.0000, p_18 = 1.00000\n",
            "ite 19: a_18 = 1.0000, b_18 = 1.0000, p_19 = 1.00000\n",
            "ite 20: a_19 = 1.0000, b_19 = 1.0000, p_20 = 1.00000\n",
            "ite 21: a_20 = 1.0000, b_20 = 1.0000, p_21 = 1.00000\n",
            "ite 22: a_21 = 1.0000, b_21 = 1.0000, p_22 = 1.00000\n",
            "ite 23: a_22 = 1.0000, b_22 = 1.0000, p_23 = 1.00000\n",
            "ite 24: a_23 = 1.0000, b_23 = 1.0000, p_24 = 1.00000\n",
            "ite 25: a_24 = 1.0000, b_24 = 1.0000, p_25 = 1.00000\n",
            "ite 26: a_25 = 1.0000, b_25 = 1.0000, p_26 = 1.00000\n",
            "ite 27: a_26 = 1.0000, b_26 = 1.0000, p_27 = 1.00000\n",
            "ite 28: a_27 = 1.0000, b_27 = 1.0000, p_28 = 1.00000\n",
            "ite 29: a_28 = 1.0000, b_28 = 1.0000, p_29 = 1.00000\n",
            "ite 30: a_29 = 1.0000, b_29 = 1.0000, p_30 = 1.00000\n",
            "ite 31: a_30 = 1.0000, b_30 = 1.0000, p_31 = 1.00000\n",
            "ite 32: a_31 = 1.0000, b_31 = 1.0000, p_32 = 1.00000\n",
            "ite 33: a_32 = 1.0000, b_32 = 1.0000, p_33 = 1.00000\n",
            "ite 34: a_33 = 1.0000, b_33 = 1.0000, p_34 = 1.00000\n",
            "ite 35: a_34 = 1.0000, b_34 = 1.0000, p_35 = 1.00000\n",
            "ite 36: a_35 = 1.0000, b_35 = 1.0000, p_36 = 1.00000\n",
            "ite 37: a_36 = 1.0000, b_36 = 1.0000, p_37 = 1.00000\n",
            "ite 38: a_37 = 1.0000, b_37 = 1.0000, p_38 = 1.00000\n",
            "ite 39: a_38 = 1.0000, b_38 = 1.0000, p_39 = 1.00000\n",
            "ite 40: a_39 = 1.0000, b_39 = 1.0000, p_40 = 1.00000\n",
            "ite 41: a_40 = 1.0000, b_40 = 1.0000, p_41 = 1.00000\n",
            "ite 42: a_41 = 1.0000, b_41 = 1.0000, p_42 = 1.00000\n",
            "ite 43: a_42 = 1.0000, b_42 = 1.0000, p_43 = 1.00000\n",
            "ite 44: a_43 = 1.0000, b_43 = 1.0000, p_44 = 1.00000\n",
            "ite 45: a_44 = 1.0000, b_44 = 1.0000, p_45 = 1.00000\n",
            "ite 46: a_45 = 1.0000, b_45 = 1.0000, p_46 = 1.00000\n",
            "ite 47: a_46 = 1.0000, b_46 = 1.0000, p_47 = 1.00000\n",
            "ite 48: a_47 = 1.0000, b_47 = 1.0000, p_48 = 1.00000\n",
            "ite 49: a_48 = 1.0000, b_48 = 1.0000, p_49 = 1.00000\n",
            "ite 50: a_49 = 1.0000, b_49 = 1.0000, p_50 = 1.00000\n",
            "solución encontrada\n"
          ]
        },
        {
          "data": {
            "text/plain": "0.9999999999999994"
          },
          "execution_count": 34,
          "metadata": {},
          "output_type": "execute_result"
        }
      ],
      "source": [
        "f = lambda x: x**10 - 1\n",
        "met_biseccion(f, 0, 1.2, tol=1e-15, n=500)"
      ],
      "metadata": {
        "pycharm": {
          "name": "#%%\n"
        },
        "id": "jriR59p3a3jn",
        "outputId": "26fc43d3-cdfc-4edd-ad74-8af1807e196e"
      }
    },
    {
      "cell_type": "code",
      "execution_count": null,
      "outputs": [],
      "source": [
        ""
      ],
      "metadata": {
        "pycharm": {
          "name": "#%%\n"
        },
        "id": "cYXZGP43a3jn"
      }
    }
  ],
  "metadata": {
    "kernelspec": {
      "display_name": "Python 3",
      "language": "python",
      "name": "python3"
    },
    "language_info": {
      "codemirror_mode": {
        "name": "ipython",
        "version": 2
      },
      "file_extension": ".py",
      "mimetype": "text/x-python",
      "name": "python",
      "nbconvert_exporter": "python",
      "pygments_lexer": "ipython2",
      "version": "2.7.6"
    },
    "colab": {
      "name": "1.1_Metodo_biseccion.ipynb.txt",
      "provenance": []
    }
  },
  "nbformat": 4,
  "nbformat_minor": 0
}